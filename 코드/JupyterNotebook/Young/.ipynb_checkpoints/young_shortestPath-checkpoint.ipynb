{
 "cells": [
  {
   "cell_type": "code",
   "execution_count": 6,
   "id": "touched-humor",
   "metadata": {},
   "outputs": [],
   "source": [
    "# 최단 시간 알고리즘 구현\n",
    "from collections import defaultdict    # 유사 딕셔너리 사용\n",
    "from heapq import *    # 우선순위 큐 사용\n",
    "\n",
    "def shortest_path(start_node, edges, grids):\n",
    "    mst = [] # 빈 list 선언\n",
    "    adjacent_edges = defaultdict(list) # default값이 list인 딕셔너리 (키: 리스트)\n",
    "    \n",
    "    # 키: 각 vertex, 리스트: 키 vertex기준 연결되어있는 vertex들\n",
    "    for weight, n1, n2 in edges:\n",
    "        adjacent_edges[n1].append((weight, n1, n2))\n",
    "        adjacent_edges[n2].append((weight, n2, n1))\n",
    "        \n",
    "    connected_nodes = set() # 빈 집합 선언\n",
    "    connected_nodes.add(start_node)\n",
    "    candidate_edge_list = adjacent_edges[start_node] # 시작노드로 후보 엣지 리스트 구성\n",
    "    heapify(candidate_edge_list) # 우선순위 큐 구성\n",
    "    \n",
    "    for x in grids:\n",
    "        while candidate_edge_list:\n",
    "            weight, n1, n2 = heappop(candidate_edge_list) # 가장 거리가 짧은 노드 pop\n",
    "            if n2 not in connected_nodes: # 연결된 노드에 없다면\n",
    "                connected_nodes.add(n2) # connected node에 추가\n",
    "                mst.append((weight, n1, n2)) # mst에 추가\n",
    "                break\n",
    "                \n",
    "        candidate_edge_list = adjacent_edges[n2] # 후보 엣지 리스트 구성\n",
    "        heapify(candidate_edge_list) # 우선순위 큐 구성\n",
    "                    \n",
    "    return mst"
   ]
  },
  {
   "cell_type": "code",
   "execution_count": 13,
   "id": "personal-headline",
   "metadata": {},
   "outputs": [
    {
     "name": "stdout",
     "output_type": "stream",
     "text": [
      "['126.9609589,37.562580006000005', '126.9609589,37.561683312', '126.962097012,37.556303148000005', '126.962097012,37.555406454', '126.9609589,37.549129596', '126.963235124,37.547336208000004', '126.962097012,37.543749432000006', '126.9609589,37.53657588', '126.9609589,37.534782492000005']\n",
      "['126.97006379599999,37.562580006000005', '126.97006379599999,37.561683312', '126.973478132,37.570650252', '126.97689246799999,37.549129596', '126.97689246799999,37.548232902', '126.973478132,37.543749432000006', '126.97461624399999,37.542852738', '126.975754356,37.541059350000005', '126.971201908,37.532092410000004', '126.971201908,37.531195716000006']\n",
      "['126.975754356,37.561683312', '126.97916869199999,37.558993230000006', '126.980306804,37.553613066000004', '126.97916869199999,37.544646126', '126.980306804,37.532989104', '126.980306804,37.530299022', '126.97689246799999,37.530299022', '126.97803058,37.524918858', '126.97803058,37.569753558']\n",
      "[['126.9609589,37.562580006000005', '126.9609589,37.561683312', '126.962097012,37.556303148000005', '126.962097012,37.555406454', '126.9609589,37.549129596', '126.963235124,37.547336208000004', '126.962097012,37.543749432000006', '126.9609589,37.53657588', '126.9609589,37.534782492000005'], ['126.97006379599999,37.562580006000005', '126.97006379599999,37.561683312', '126.973478132,37.570650252', '126.97689246799999,37.549129596', '126.97689246799999,37.548232902', '126.973478132,37.543749432000006', '126.97461624399999,37.542852738', '126.975754356,37.541059350000005', '126.971201908,37.532092410000004', '126.971201908,37.531195716000006'], ['126.975754356,37.561683312', '126.97916869199999,37.558993230000006', '126.980306804,37.553613066000004', '126.97916869199999,37.544646126', '126.980306804,37.532989104', '126.980306804,37.530299022', '126.97689246799999,37.530299022', '126.97803058,37.524918858', '126.97803058,37.569753558']]\n"
     ]
    }
   ],
   "source": [
    "selected_grids = [[11, 12, 26, 40, 42, 56, 77, 78, 91, 146], \n",
    "                  [483, 484, 576, 577, 651, 681, 741, 802, 852, 853, 877], \n",
    "                  [779, 873, 888, 938, 959, 975, 1024, 1047, 1050, 1063]]\n",
    "\n",
    "WIDTH = 59\n",
    "HEIGHT = 32\n",
    "\n",
    "O_LATITUDE = 37.57244364\n",
    "O_LONGTITUDE = 126.96095890\n",
    "LAT_GAP = 0.000896694\n",
    "LONG_GAP = 0.001138112\n",
    "\n",
    "idx_result = []\n",
    "coor_result = []\n",
    "\n",
    "for grids in selected_grids:\n",
    "    edges = []\n",
    "\n",
    "    # (거리, vertex1, vertex2) 형태의 리스트 구현\n",
    "    for i in range(len(grids)):\n",
    "        for j in range(i + 1, len(grids)):\n",
    "            x1, y1 = int(grids[i] % WIDTH), int(grids[i] / WIDTH) ################# 따로 계산하는 식 써야함 (num2coord['그리드 번호'])\n",
    "            x2, y2 = int(grids[j] % WIDTH), int(grids[j] / WIDTH) ################# 따로 계산하는 식 써야함 (num2coord['그리드 번호'])\n",
    "            distance = round((((x2 - x1)**2) + (y2 - y1)**2)**(1/2), 2)\n",
    "            edges.append((distance, grids[i], grids[j]))\n",
    "    \n",
    "    #print(edges)\n",
    "    result = shortest_path(grids[0], edges, grids)\n",
    "\n",
    "    idx_mid_result = []\n",
    "    coor_mid_result = []\n",
    "    for distance, idx, x in result:\n",
    "        x, y = int(idx % WIDTH), int(idx / WIDTH) ################# 따로 계산하는 식 써야함 (num2coord['그리드 번호'])\n",
    "        gx, gy = O_LATITUDE - x * LAT_GAP, O_LONGTITUDE + y * LONG_GAP\n",
    "        string = str(gy) + \",\" + str(gx)\n",
    "        idx_mid_result.append(idx)\n",
    "        coor_mid_result.append(string)\n",
    "\n",
    "    idx_result.append(idx_mid_result)\n",
    "    coor_result.append(coor_mid_result)\n",
    "    #print(idx_mid_result) # 그리드 번호 결과 출력\n",
    "    print(coor_mid_result) # 위도 경도 결과 출력\n",
    "    \n",
    "#print(idx_result)\n",
    "print(coor_result)"
   ]
  },
  {
   "cell_type": "code",
   "execution_count": null,
   "id": "going-billy",
   "metadata": {},
   "outputs": [],
   "source": []
  }
 ],
 "metadata": {
  "kernelspec": {
   "display_name": "Python 3",
   "language": "python",
   "name": "python3"
  },
  "language_info": {
   "codemirror_mode": {
    "name": "ipython",
    "version": 3
   },
   "file_extension": ".py",
   "mimetype": "text/x-python",
   "name": "python",
   "nbconvert_exporter": "python",
   "pygments_lexer": "ipython3",
   "version": "3.8.5"
  }
 },
 "nbformat": 4,
 "nbformat_minor": 5
}
