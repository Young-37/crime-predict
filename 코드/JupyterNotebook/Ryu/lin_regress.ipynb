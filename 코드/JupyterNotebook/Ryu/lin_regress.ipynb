{
 "cells": [
  {
   "cell_type": "code",
   "execution_count": 1,
   "metadata": {},
   "outputs": [],
   "source": [
    "# connect mysql\n",
    "import pymysql\n",
    "conn = pymysql.connect(host = 'localhost', user='dongyeon0317', password='1Q2w3e4r!@', db='crime_prediction', charset = 'utf8')\n",
    "curs = conn.cursor(pymysql.cursors.DictCursor)"
   ]
  },
  {
   "cell_type": "code",
   "execution_count": 2,
   "metadata": {},
   "outputs": [
    {
     "name": "stdout",
     "output_type": "stream",
     "text": [
      "1.Spring 2.Summer 3.Fall 4.Winter 2\n",
      "1.Morning 2.Afternoon 3.Evening 4.Midnight 2\n",
      "1.눈/비 2.맑음 3.흐림 2\n"
     ]
    }
   ],
   "source": [
    "# select from Dataset - Choose scenario\n",
    "\n",
    "# Season\n",
    "num = int(input('1.Spring 2.Summer 3.Fall 4.Winter '))\n",
    "if num == 1: season = 'Spring'\n",
    "elif num == 2: season = \"Summer\" \n",
    "elif num == 3: season = \"Fall\" \n",
    "else: season = \"Winter\"\n",
    "\n",
    "# Time    \n",
    "num = int(input(\"1.Morning 2.Afternoon 3.Evening 4.Midnight \"))\n",
    "if num == 1: time = \"Morning\"  \n",
    "elif num == 2: time = \"Afternoon\" \n",
    "elif num == 3: time = \"Evening\" \n",
    "else: time = \"Midnight\"\n",
    "    \n",
    "# Weather    \n",
    "num = int(input(\"1.눈/비 2.맑음 3.흐림 \"))\n",
    "if num == 1: \n",
    "    where = 'WHERE (season = \\''+ season + '\\' and time = \\'' + time + '\\' and rainfall > 0) or (season = \\'' + season + '\\' and time = \\'' + time + '\\' and snowfall > 0);' \n",
    "elif num == 2: \n",
    "    where = 'WHERE (season = \\''+ season + '\\' and time = \\'' + time + '\\' and rainfall = 0 and cloud < 5) or (season = \\'' + season + '\\' and time = \\'' + time + '\\' and snowfall = 0 and cloud < 5);' \n",
    "else: \n",
    "    where = 'WHERE (season = \\''+ season + '\\' and time = \\'' + time + '\\' and rainfall = 0 and cloud >= 5) or (season = \\'' + season + '\\' and time = \\'' + time + '\\' and snowfall = 0 and cloud >= 5);' \n",
    "\n",
    "dataset_sql = 'SELECT grid, CCTV_num, police_value, resident, floating, Adult, Apartment, Commercial, Detached, School, Traffic FROM Dataset ' + where\n",
    "grid_sql = 'SELECT grid, CCTV_num, police_value, resident, floating, Adult, Apartment, Commercial, Detached, School, Traffic FROM Grid WHERE time = \\''+ time + '\\''\n",
    "curs.execute(dataset_sql)\n",
    "dataset_result = curs.fetchall()\n",
    "curs.execute(grid_sql)\n",
    "grid_result = curs.fetchall()"
   ]
  },
  {
   "cell_type": "code",
   "execution_count": 3,
   "metadata": {},
   "outputs": [
    {
     "data": {
      "text/html": [
       "<div>\n",
       "<style scoped>\n",
       "    .dataframe tbody tr th:only-of-type {\n",
       "        vertical-align: middle;\n",
       "    }\n",
       "\n",
       "    .dataframe tbody tr th {\n",
       "        vertical-align: top;\n",
       "    }\n",
       "\n",
       "    .dataframe thead th {\n",
       "        text-align: right;\n",
       "    }\n",
       "</style>\n",
       "<table border=\"1\" class=\"dataframe\">\n",
       "  <thead>\n",
       "    <tr style=\"text-align: right;\">\n",
       "      <th></th>\n",
       "      <th>grid</th>\n",
       "      <th>CCTV_num</th>\n",
       "      <th>police_value</th>\n",
       "      <th>resident</th>\n",
       "      <th>floating</th>\n",
       "      <th>Adult</th>\n",
       "      <th>Apartment</th>\n",
       "      <th>Commercial</th>\n",
       "      <th>Detached</th>\n",
       "      <th>School</th>\n",
       "      <th>Traffic</th>\n",
       "      <th>crime_num</th>\n",
       "    </tr>\n",
       "  </thead>\n",
       "  <tbody>\n",
       "    <tr>\n",
       "      <th>115</th>\n",
       "      <td>0</td>\n",
       "      <td>0</td>\n",
       "      <td>0</td>\n",
       "      <td>20</td>\n",
       "      <td>560</td>\n",
       "      <td>0</td>\n",
       "      <td>0</td>\n",
       "      <td>0</td>\n",
       "      <td>0</td>\n",
       "      <td>0</td>\n",
       "      <td>0</td>\n",
       "      <td>1</td>\n",
       "    </tr>\n",
       "    <tr>\n",
       "      <th>1</th>\n",
       "      <td>1</td>\n",
       "      <td>0</td>\n",
       "      <td>0</td>\n",
       "      <td>30</td>\n",
       "      <td>500</td>\n",
       "      <td>0</td>\n",
       "      <td>21</td>\n",
       "      <td>0</td>\n",
       "      <td>0</td>\n",
       "      <td>0</td>\n",
       "      <td>0</td>\n",
       "      <td>0</td>\n",
       "    </tr>\n",
       "    <tr>\n",
       "      <th>2</th>\n",
       "      <td>2</td>\n",
       "      <td>0</td>\n",
       "      <td>0</td>\n",
       "      <td>20</td>\n",
       "      <td>440</td>\n",
       "      <td>0</td>\n",
       "      <td>0</td>\n",
       "      <td>0</td>\n",
       "      <td>0</td>\n",
       "      <td>0</td>\n",
       "      <td>0</td>\n",
       "      <td>0</td>\n",
       "    </tr>\n",
       "    <tr>\n",
       "      <th>3</th>\n",
       "      <td>3</td>\n",
       "      <td>0</td>\n",
       "      <td>0</td>\n",
       "      <td>20</td>\n",
       "      <td>550</td>\n",
       "      <td>0</td>\n",
       "      <td>0</td>\n",
       "      <td>0</td>\n",
       "      <td>0</td>\n",
       "      <td>0</td>\n",
       "      <td>0</td>\n",
       "      <td>0</td>\n",
       "    </tr>\n",
       "    <tr>\n",
       "      <th>229</th>\n",
       "      <td>4</td>\n",
       "      <td>0</td>\n",
       "      <td>0</td>\n",
       "      <td>40</td>\n",
       "      <td>510</td>\n",
       "      <td>0</td>\n",
       "      <td>0</td>\n",
       "      <td>0</td>\n",
       "      <td>0</td>\n",
       "      <td>0</td>\n",
       "      <td>0</td>\n",
       "      <td>1</td>\n",
       "    </tr>\n",
       "    <tr>\n",
       "      <th>...</th>\n",
       "      <td>...</td>\n",
       "      <td>...</td>\n",
       "      <td>...</td>\n",
       "      <td>...</td>\n",
       "      <td>...</td>\n",
       "      <td>...</td>\n",
       "      <td>...</td>\n",
       "      <td>...</td>\n",
       "      <td>...</td>\n",
       "      <td>...</td>\n",
       "      <td>...</td>\n",
       "      <td>...</td>\n",
       "    </tr>\n",
       "    <tr>\n",
       "      <th>1102</th>\n",
       "      <td>1102</td>\n",
       "      <td>8</td>\n",
       "      <td>0</td>\n",
       "      <td>310</td>\n",
       "      <td>4940</td>\n",
       "      <td>0</td>\n",
       "      <td>17</td>\n",
       "      <td>0</td>\n",
       "      <td>26</td>\n",
       "      <td>0</td>\n",
       "      <td>0</td>\n",
       "      <td>0</td>\n",
       "    </tr>\n",
       "    <tr>\n",
       "      <th>361</th>\n",
       "      <td>1103</td>\n",
       "      <td>0</td>\n",
       "      <td>0</td>\n",
       "      <td>330</td>\n",
       "      <td>4870</td>\n",
       "      <td>0</td>\n",
       "      <td>0</td>\n",
       "      <td>0</td>\n",
       "      <td>0</td>\n",
       "      <td>0</td>\n",
       "      <td>0</td>\n",
       "      <td>3</td>\n",
       "    </tr>\n",
       "    <tr>\n",
       "      <th>319</th>\n",
       "      <td>1104</td>\n",
       "      <td>0</td>\n",
       "      <td>0</td>\n",
       "      <td>450</td>\n",
       "      <td>5330</td>\n",
       "      <td>0</td>\n",
       "      <td>0</td>\n",
       "      <td>0</td>\n",
       "      <td>0</td>\n",
       "      <td>0</td>\n",
       "      <td>0</td>\n",
       "      <td>3</td>\n",
       "    </tr>\n",
       "    <tr>\n",
       "      <th>279</th>\n",
       "      <td>1105</td>\n",
       "      <td>0</td>\n",
       "      <td>0</td>\n",
       "      <td>240</td>\n",
       "      <td>5250</td>\n",
       "      <td>0</td>\n",
       "      <td>0</td>\n",
       "      <td>0</td>\n",
       "      <td>0</td>\n",
       "      <td>0</td>\n",
       "      <td>0</td>\n",
       "      <td>1</td>\n",
       "    </tr>\n",
       "    <tr>\n",
       "      <th>1106</th>\n",
       "      <td>1106</td>\n",
       "      <td>0</td>\n",
       "      <td>0</td>\n",
       "      <td>280</td>\n",
       "      <td>5070</td>\n",
       "      <td>0</td>\n",
       "      <td>0</td>\n",
       "      <td>0</td>\n",
       "      <td>0</td>\n",
       "      <td>0</td>\n",
       "      <td>0</td>\n",
       "      <td>0</td>\n",
       "    </tr>\n",
       "  </tbody>\n",
       "</table>\n",
       "<p>1107 rows × 12 columns</p>\n",
       "</div>"
      ],
      "text/plain": [
       "      grid  CCTV_num  police_value  resident  floating  Adult  Apartment  \\\n",
       "115      0         0             0        20       560      0          0   \n",
       "1        1         0             0        30       500      0         21   \n",
       "2        2         0             0        20       440      0          0   \n",
       "3        3         0             0        20       550      0          0   \n",
       "229      4         0             0        40       510      0          0   \n",
       "...    ...       ...           ...       ...       ...    ...        ...   \n",
       "1102  1102         8             0       310      4940      0         17   \n",
       "361   1103         0             0       330      4870      0          0   \n",
       "319   1104         0             0       450      5330      0          0   \n",
       "279   1105         0             0       240      5250      0          0   \n",
       "1106  1106         0             0       280      5070      0          0   \n",
       "\n",
       "      Commercial  Detached  School  Traffic  crime_num  \n",
       "115            0         0       0        0          1  \n",
       "1              0         0       0        0          0  \n",
       "2              0         0       0        0          0  \n",
       "3              0         0       0        0          0  \n",
       "229            0         0       0        0          1  \n",
       "...          ...       ...     ...      ...        ...  \n",
       "1102           0        26       0        0          0  \n",
       "361            0         0       0        0          3  \n",
       "319            0         0       0        0          3  \n",
       "279            0         0       0        0          1  \n",
       "1106           0         0       0        0          0  \n",
       "\n",
       "[1107 rows x 12 columns]"
      ]
     },
     "execution_count": 3,
     "metadata": {},
     "output_type": "execute_result"
    }
   ],
   "source": [
    "# Transform to Pandas Dataframe\n",
    "import pandas as pd\n",
    "dataset_result = pd.DataFrame(dataset_result)\n",
    "grid_result = pd.DataFrame(grid_result)\n",
    "result = pd.concat([dataset_result, grid_result])\n",
    "result['crime_num'] = result.groupby(['grid']).grid.transform('count') -1\n",
    "result = result.drop_duplicates()\n",
    "result = result.sort_values('grid')\n",
    "result"
   ]
  },
  {
   "cell_type": "code",
   "execution_count": 22,
   "metadata": {},
   "outputs": [
    {
     "data": {
      "text/html": [
       "<div>\n",
       "<style scoped>\n",
       "    .dataframe tbody tr th:only-of-type {\n",
       "        vertical-align: middle;\n",
       "    }\n",
       "\n",
       "    .dataframe tbody tr th {\n",
       "        vertical-align: top;\n",
       "    }\n",
       "\n",
       "    .dataframe thead th {\n",
       "        text-align: right;\n",
       "    }\n",
       "</style>\n",
       "<table border=\"1\" class=\"dataframe\">\n",
       "  <thead>\n",
       "    <tr style=\"text-align: right;\">\n",
       "      <th></th>\n",
       "      <th>crime_num</th>\n",
       "    </tr>\n",
       "  </thead>\n",
       "  <tbody>\n",
       "    <tr>\n",
       "      <th>115</th>\n",
       "      <td>1</td>\n",
       "    </tr>\n",
       "    <tr>\n",
       "      <th>1</th>\n",
       "      <td>0</td>\n",
       "    </tr>\n",
       "    <tr>\n",
       "      <th>2</th>\n",
       "      <td>0</td>\n",
       "    </tr>\n",
       "    <tr>\n",
       "      <th>3</th>\n",
       "      <td>0</td>\n",
       "    </tr>\n",
       "    <tr>\n",
       "      <th>229</th>\n",
       "      <td>1</td>\n",
       "    </tr>\n",
       "    <tr>\n",
       "      <th>...</th>\n",
       "      <td>...</td>\n",
       "    </tr>\n",
       "    <tr>\n",
       "      <th>1102</th>\n",
       "      <td>0</td>\n",
       "    </tr>\n",
       "    <tr>\n",
       "      <th>361</th>\n",
       "      <td>3</td>\n",
       "    </tr>\n",
       "    <tr>\n",
       "      <th>319</th>\n",
       "      <td>3</td>\n",
       "    </tr>\n",
       "    <tr>\n",
       "      <th>279</th>\n",
       "      <td>1</td>\n",
       "    </tr>\n",
       "    <tr>\n",
       "      <th>1106</th>\n",
       "      <td>0</td>\n",
       "    </tr>\n",
       "  </tbody>\n",
       "</table>\n",
       "<p>1107 rows × 1 columns</p>\n",
       "</div>"
      ],
      "text/plain": [
       "      crime_num\n",
       "115           1\n",
       "1             0\n",
       "2             0\n",
       "3             0\n",
       "229           1\n",
       "...         ...\n",
       "1102          0\n",
       "361           3\n",
       "319           3\n",
       "279           1\n",
       "1106          0\n",
       "\n",
       "[1107 rows x 1 columns]"
      ]
     },
     "execution_count": 22,
     "metadata": {},
     "output_type": "execute_result"
    }
   ],
   "source": [
    "from sklearn.model_selection import train_test_split\n",
    "x = result[[\"CCTV_num\", \"police_value\", \"resident\", \"floating\", \"Adult\", \"Apartment\", \"Commercial\", \"Detached\", \"School\", \"Traffic\"]]\n",
    "y = result[['crime_num']]\n",
    "x_train, x_test, y_train, y_test = train_test_split(x, y, train_size=0.8, test_size=0.2)"
   ]
  },
  {
   "cell_type": "code",
   "execution_count": 6,
   "metadata": {},
   "outputs": [
    {
     "data": {
      "text/plain": [
       "LinearRegression()"
      ]
     },
     "execution_count": 6,
     "metadata": {},
     "output_type": "execute_result"
    }
   ],
   "source": [
    "from sklearn.linear_model import LinearRegression\n",
    "mlr = LinearRegression()\n",
    "mlr.fit(x_train, y_train) "
   ]
  },
  {
   "cell_type": "code",
   "execution_count": 7,
   "metadata": {},
   "outputs": [],
   "source": [
    "y_predict = mlr.predict(x_test)"
   ]
  },
  {
   "cell_type": "code",
   "execution_count": 19,
   "metadata": {},
   "outputs": [
    {
     "data": {
      "image/png": "[encoded data removed]",
      "text/plain": [
       "<Figure size 432x288 with 1 Axes>"
      ]
     },
     "metadata": {
      "needs_background": "light"
     },
     "output_type": "display_data"
    }
   ],
   "source": [
    "import matplotlib.pyplot as plt\n",
    "plt.scatter(y_test, y_predict, alpha=0.4)\n",
    "plt.xlabel(\"Actual Crime\")\n",
    "plt.ylabel(\"Predicted Crime\")\n",
    "plt.title(\"MULTIPLE LINEAR REGRESSION\")\n",
    "plt.show()"
   ]
  },
  {
   "cell_type": "code",
   "execution_count": 14,
   "metadata": {
    "scrolled": true
   },
   "outputs": [
    {
     "data": {
      "image/png": "[encoded data removed]",
      "text/plain": [
       "<Figure size 432x288 with 1 Axes>"
      ]
     },
     "metadata": {
      "needs_background": "light"
     },
     "output_type": "display_data"
    }
   ],
   "source": [
    "# 'Adult'와 'crime_num'\n",
    "plt.scatter(result[['Adult']], result[['crime_num']], alpha=0.4)\n",
    "plt.show()"
   ]
  },
  {
   "cell_type": "code",
   "execution_count": 15,
   "metadata": {},
   "outputs": [
    {
     "data": {
      "image/png": "[encoded data removed]",
      "text/plain": [
       "<Figure size 432x288 with 1 Axes>"
      ]
     },
     "metadata": {
      "needs_background": "light"
     },
     "output_type": "display_data"
    }
   ],
   "source": [
    "# 'CCTV_num'와 'crime_num'\n",
    "plt.scatter(result[['CCTV_num']], result[['crime_num']], alpha=0.4)\n",
    "plt.show()"
   ]
  },
  {
   "cell_type": "code",
   "execution_count": 13,
   "metadata": {},
   "outputs": [
    {
     "data": {
      "image/png": "[encoded data removed]",
      "text/plain": [
       "<Figure size 432x288 with 1 Axes>"
      ]
     },
     "metadata": {
      "needs_background": "light"
     },
     "output_type": "display_data"
    }
   ],
   "source": [
    "# 'floating'와 'crime_num'\n",
    "plt.scatter(result[['floating']], result[['crime_num']], alpha=0.4)\n",
    "plt.show()"
   ]
  },
  {
   "cell_type": "code",
   "execution_count": 16,
   "metadata": {},
   "outputs": [
    {
     "name": "stdout",
     "output_type": "stream",
     "text": [
      "0.10475089620155364\n"
     ]
    }
   ],
   "source": [
    "print(mlr.score(x_train, y_train))"
   ]
  },
  {
   "cell_type": "code",
   "execution_count": null,
   "metadata": {},
   "outputs": [],
   "source": []
  }
 ],
 "metadata": {
  "kernelspec": {
   "display_name": "Python 3",
   "language": "python",
   "name": "python3"
  },
  "language_info": {
   "codemirror_mode": {
    "name": "ipython",
    "version": 3
   },
   "file_extension": ".py",
   "mimetype": "text/x-python",
   "name": "python",
   "nbconvert_exporter": "python",
   "pygments_lexer": "ipython3",
   "version": "3.8.10"
  }
 },
 "nbformat": 4,
 "nbformat_minor": 4
}
